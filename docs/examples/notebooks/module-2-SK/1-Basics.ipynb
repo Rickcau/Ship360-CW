{
 "cells": [
  {
   "cell_type": "markdown",
   "id": "48e83f9d",
   "metadata": {},
   "source": [
    "# Let's go over the 5 Steps needed to use the Semantic Kernel\n",
    "These 5 steps are the same if using Semantic Kernel with DotNet\n",
    "\n",
    "    1 - Create the Kernel\n",
    "\n",
    "    2 - Load your Azure OpenAI Endpoint details and any Environment Variables needed\n",
    "\n",
    "    3 - Add the ChatCompletion Service\n",
    "\n",
    "    4 - Construct the Kernel, ChatHistory and get instance of the ChatCompletion Service\n",
    "\n",
    "    5 - Send a prompt or ChatHistory and get a response from the LLM\n",
    "\n",
    "These are the basic steps need to interact with an LLM ChatCompletion Endpoint.  In the next module we will look at how to use a Plugin and SK functions to add addtional capabilities."
   ]
  },
  {
   "cell_type": "markdown",
   "id": "276853e3",
   "metadata": {},
   "source": [
    "## 1 - Create the Kernel"
   ]
  },
  {
   "cell_type": "code",
   "execution_count": 1,
   "id": "5fcb111a",
   "metadata": {},
   "outputs": [],
   "source": [
    "from semantic_kernel import Kernel\n",
    "from semantic_kernel.connectors.ai.open_ai import AzureChatCompletion\n",
    "\n",
    "# Initialize the kernel\n",
    "kernel = Kernel()\n",
    "\n",
    "\n",
    "\n"
   ]
  },
  {
   "cell_type": "markdown",
   "id": "963b6ea8",
   "metadata": {},
   "source": [
    "## 2 - Load Azure OpenAI Endpoint Details"
   ]
  },
  {
   "cell_type": "code",
   "execution_count": 2,
   "id": "b59f75ad",
   "metadata": {},
   "outputs": [
    {
     "name": "stdout",
     "output_type": "stream",
     "text": [
      "All required environment variables are set!\n",
      "API Key: GCbZt***************************************************************************08jv (masked for security)\n",
      "Endpoint: https://aoai-service-eastus.openai.azure.com/\n"
     ]
    }
   ],
   "source": [
    "import os\n",
    "from pathlib import Path\n",
    "from dotenv import load_dotenv\n",
    "\n",
    "# Set path to the .env file in the notebooks directory\n",
    "notebooks_dir = Path(os.path.abspath('')).parent.parent\n",
    "env_path = notebooks_dir / '.env'\n",
    "\n",
    "# Load environment variables from the notebooks/.env file\n",
    "load_dotenv(dotenv_path=env_path)\n",
    "\n",
    "# Set up environment variables\n",
    "# You can also create a .env file with the following variables\n",
    "# AZURE_OPENAI_API_KEY=your-api-key\n",
    "# AZURE_OPENAI_ENDPOINT=your-endpoint\n",
    "\n",
    "# Check if environment variables are set\n",
    "def check_env_vars():\n",
    "    required_vars = [\"AZURE_OPENAI_API_KEY\", \"AZURE_OPENAI_ENDPOINT\"]\n",
    "    missing_vars = [var for var in required_vars if not os.environ.get(var)]\n",
    "    \n",
    "    if missing_vars:\n",
    "        print(f\"Warning: Missing environment variables: {', '.join(missing_vars)}\")\n",
    "        print(f\"Please create a .env file at {env_path} with these variables.\")\n",
    "        print(\"Some examples in this notebook may not work without these variables.\")\n",
    "    else:\n",
    "        print(\"All required environment variables are set!\")\n",
    "        \n",
    "        # Display part of the API key and endpoint for verification\n",
    "        api_key = os.environ.get(\"AZURE_OPENAI_API_KEY\", \"\")\n",
    "        endpoint = os.environ.get(\"AZURE_OPENAI_ENDPOINT\", \"\")\n",
    "        \n",
    "        # Show only the first 5 and last 4 characters of the API key\n",
    "        if api_key:\n",
    "            masked_key = api_key[:5] + \"*\" * (len(api_key) - 9) + api_key[-4:] if len(api_key) > 9 else \"Not found\"\n",
    "            print(f\"API Key: {masked_key} (masked for security)\")\n",
    "            \n",
    "        # Show the endpoint domain\n",
    "        if endpoint:\n",
    "            print(f\"Endpoint: {endpoint}\")\n",
    "\n",
    "# Uncomment to check environment variables\n",
    "check_env_vars()"
   ]
  },
  {
   "cell_type": "markdown",
   "id": "81753571",
   "metadata": {},
   "source": [
    "## 3 - Add ChatCompletion Service"
   ]
  },
  {
   "cell_type": "code",
   "execution_count": 3,
   "id": "9e137284",
   "metadata": {},
   "outputs": [
    {
     "name": "stdout",
     "output_type": "stream",
     "text": [
      "Added chat completion service using deployment: gpt-4o\n"
     ]
    }
   ],
   "source": [
    "import os\n",
    "\n",
    "from semantic_kernel.connectors.ai.open_ai import AzureChatCompletion\n",
    "\n",
    "# Get values from environment variables\n",
    "deployment_name = os.environ.get(\"AZURE_OPENAI_DEPLOYMENT\", \"gpt-4o\")\n",
    "endpoint = os.environ.get(\"AZURE_OPENAI_ENDPOINT\")\n",
    "api_key = os.environ.get(\"AZURE_OPENAI_API_KEY\")\n",
    "\n",
    "# Add Azure OpenAI chat completion service\n",
    "chat_service = AzureChatCompletion(\n",
    "    deployment_name=deployment_name,\n",
    "    endpoint=endpoint,\n",
    "    api_key=api_key\n",
    "    # model_id=\"gpt-4\"  # Optional if deployment name matches model\n",
    ")\n",
    "\n",
    "# kernel.add_service(chat_service)\n",
    "\n",
    "print(f\"Added chat completion service using deployment: {deployment_name}\")"
   ]
  },
  {
   "cell_type": "markdown",
   "id": "6caa3f8e",
   "metadata": {},
   "source": [
    "## 4 - Construct the Kernel, ChatHistory and get instance of the ChatCompletion Service"
   ]
  },
  {
   "cell_type": "code",
   "execution_count": 4,
   "id": "f30f61ab",
   "metadata": {},
   "outputs": [],
   "source": [
    "from semantic_kernel.connectors.ai.open_ai.prompt_execution_settings.azure_chat_prompt_execution_settings import (\n",
    "    AzureChatPromptExecutionSettings,\n",
    ")\n",
    "from semantic_kernel.connectors.ai.function_choice_behavior import FunctionChoiceBehavior\n",
    "from semantic_kernel.contents.chat_history import ChatHistory\n",
    "\n",
    "# Get the chat service from kernel\n",
    "kernel.add_service(chat_service) \n",
    "\n",
    "# Enable planning\n",
    "execution_settings = AzureChatPromptExecutionSettings()\n",
    "execution_settings.function_choice_behavior = FunctionChoiceBehavior.Auto()\n",
    "        \n",
    "history = ChatHistory(system_message=\"You are a helpful assistant.\")\n",
    "history.add_user_message(\"Why is the sky blue?\")\n"
   ]
  },
  {
   "cell_type": "markdown",
   "id": "6505e3cb",
   "metadata": {},
   "source": [
    "## 5 - Get a response from the Chat Completion Service"
   ]
  },
  {
   "cell_type": "code",
   "execution_count": 5,
   "id": "4d735e88",
   "metadata": {},
   "outputs": [
    {
     "name": "stdout",
     "output_type": "stream",
     "text": [
      "AI Response: The sky appears blue because of a phenomenon called **Rayleigh scattering**. This occurs when sunlight interacts with the molecules and small particles in Earth's atmosphere.\n",
      "\n",
      "Here's a step-by-step explanation:\n",
      "\n",
      "1. **Sunlight Composition**: Sunlight contains all colors of light, which together make white light. Each color corresponds to a different wavelength, with violet and blue having the shortest wavelengths, and red having the longest.\n",
      "\n",
      "2. **Interaction with Atmosphere**: When sunlight enters Earth's atmosphere, it encounters gases and tiny particles. The shorter wavelengths of light (blue and violet) are scattered in all directions much more effectively than the longer wavelengths (such as red and yellow).\n",
      "\n",
      "3. **Why Blue, Not Violet?**: Although violet light is scattered even more than blue, our eyes are more sensitive to blue light, and some violet light is absorbed by the upper atmosphere. As a result, the blue light dominates and gives the sky its characteristic color.\n",
      "\n",
      "4. **At Different Times**: At sunrise and sunset, the sun is lower in the sky, so its light has to pass through a thicker layer of atmosphere. During this time, even more scattering occurs, and the shorter wavelengths (blue and violet) are scattered away entirely, leaving the longer wavelengths like red and orange to dominate—producing the beautiful colors of sunrise and sunset.\n",
      "\n",
      "This is why the sky is usually blue during the day and turns shades of red, orange, and yellow at dawn and dusk!\n"
     ]
    }
   ],
   "source": [
    "# Get the response from the AI\n",
    "result = await chat_service.get_chat_message_content(\n",
    "    chat_history=history,\n",
    "    settings=execution_settings,\n",
    "    kernel=kernel,\n",
    ")\n",
    "\n",
    "history.add_message(result)\n",
    "\n",
    "# Print the result\n",
    "print(\"AI Response:\", result)"
   ]
  }
 ],
 "metadata": {
  "kernelspec": {
   "display_name": "Python 3",
   "language": "python",
   "name": "python3"
  },
  "language_info": {
   "codemirror_mode": {
    "name": "ipython",
    "version": 3
   },
   "file_extension": ".py",
   "mimetype": "text/x-python",
   "name": "python",
   "nbconvert_exporter": "python",
   "pygments_lexer": "ipython3",
   "version": "3.12.10"
  }
 },
 "nbformat": 4,
 "nbformat_minor": 5
}
