{
 "cells": [
  {
   "cell_type": "markdown",
   "id": "d2ee9851",
   "metadata": {},
   "source": [
    "## Intent Helper Example\n",
    "Likely we don't need to use this in this use case but adding some code for an example"
   ]
  },
  {
   "cell_type": "code",
   "execution_count": 3,
   "id": "3eeec13c",
   "metadata": {},
   "outputs": [
    {
     "name": "stdout",
     "output_type": "stream",
     "text": [
      "Current directory: c:\\Users\\rickcau\\source\\repos\\Ship360-CW\\docs\\examples\\notebooks\\module-4-Intent\n",
      "Root directory: c:\\Users\\rickcau\\source\\repos\\Ship360-CW\\docs\\examples\n",
      "Query: 'Create a shipping label for Order #12345 using the cheapest available carrier with delivery within 3 days.'\n",
      "Detected Intent: create_label\n",
      "---\n",
      "Query: 'Rate shop for the best shipping option for this package: 10x6x4 inches, 2 lbs, shipping from 10001 to 94105.'\n",
      "Detected Intent: rate_shop\n",
      "---\n",
      "Query: 'Compare rates for FedEx, UPS, and USPS for a shipment from Atlanta to Seattle, and select the most cost-effective with tracking.'\n",
      "Detected Intent: compare_carriers\n",
      "---\n",
      "Query: 'Generate a shipping label with the fastest delivery time under $15 for this order #2433232.'\n",
      "Detected Intent: create_label\n",
      "---\n"
     ]
    }
   ],
   "source": [
    "from semantic_kernel import Kernel\n",
    "from semantic_kernel.connectors.ai.open_ai import AzureChatCompletion\n",
    "from semantic_kernel.connectors.ai.open_ai.prompt_execution_settings.azure_chat_prompt_execution_settings import AzureChatPromptExecutionSettings\n",
    "from semantic_kernel.connectors.ai.function_choice_behavior import FunctionChoiceBehavior\n",
    "import os\n",
    "import sys\n",
    "from pathlib import Path\n",
    "from dotenv import load_dotenv\n",
    "from semantic_kernel.prompt_template import InputVariable, PromptTemplateConfig\n",
    "\n",
    "# Set path to the .env file in the notebooks directory\n",
    "notebooks_dir = Path(os.path.abspath('')).parent.parent\n",
    "env_path = notebooks_dir / '.env'\n",
    "\n",
    "# Load environment variables from the notebooks/.env file\n",
    "load_dotenv(dotenv_path=env_path)\n",
    "\n",
    "# Debug print to check Python path and available modules\n",
    "print(f\"Current directory: {os.path.abspath('')}\")\n",
    "print(f\"Root directory: {Path(os.path.abspath('')).parent.parent}\")\n",
    "\n",
    "# Set path to the docs/examples directory to correctly find the helpers folder\n",
    "\n",
    "# Get the absolute path to the helpers directory\n",
    "root_dir = Path(os.path.abspath('')).parent.parent\n",
    "helpers_dir = root_dir / 'helpers'\n",
    "\n",
    "# Add the helpers directory to Python path\n",
    "sys.path.insert(0, str(helpers_dir))\n",
    "\n",
    "from intent_helper import Intent\n",
    "\n",
    "# Get values from environment variables\n",
    "deployment_name = os.environ.get(\"AZURE_OPENAI_DEPLOYMENT\", \"gpt-4o\")\n",
    "endpoint = os.environ.get(\"AZURE_OPENAI_ENDPOINT\")\n",
    "api_key = os.environ.get(\"AZURE_OPENAI_API_KEY\")\n",
    "\n",
    "# Initialize the kernel\n",
    "kernel = Kernel()\n",
    "\n",
    "# Add Azure OpenAI service\n",
    "chat_service = AzureChatCompletion(\n",
    "    deployment_name=deployment_name, \n",
    "    api_key=api_key,\n",
    "    endpoint=endpoint\n",
    ")\n",
    "\n",
    "# Add the service to the kernel\n",
    "kernel.add_service(chat_service)\n",
    "\n",
    "# Set execution settings\n",
    "execution_settings = AzureChatPromptExecutionSettings()\n",
    "execution_settings.function_choice_behavior = FunctionChoiceBehavior.Auto()\n",
    "\n",
    "# Example shipping queries\n",
    "queries = [\n",
    "    \"Create a shipping label for Order #12345 using the cheapest available carrier with delivery within 3 days.\",\n",
    "    \"Rate shop for the best shipping option for this package: 10x6x4 inches, 2 lbs, shipping from 10001 to 94105.\",\n",
    "    \"Compare rates for FedEx, UPS, and USPS for a shipment from Atlanta to Seattle, and select the most cost-effective with tracking.\",\n",
    "    \"Generate a shipping label with the fastest delivery time under $15 for this order #2433232.\"\n",
    "]\n",
    "\n",
    "# Use intent detection for each query\n",
    "for query in queries:\n",
    "    intent = await Intent.get_intent(chat_service, query)\n",
    "    print(f\"Query: '{query}'\")\n",
    "    print(f\"Detected Intent: {intent}\")\n",
    "    print(\"---\")\n",
    "\n"
   ]
  }
 ],
 "metadata": {
  "kernelspec": {
   "display_name": "Python 3",
   "language": "python",
   "name": "python3"
  },
  "language_info": {
   "codemirror_mode": {
    "name": "ipython",
    "version": 3
   },
   "file_extension": ".py",
   "mimetype": "text/x-python",
   "name": "python",
   "nbconvert_exporter": "python",
   "pygments_lexer": "ipython3",
   "version": "3.12.10"
  }
 },
 "nbformat": 4,
 "nbformat_minor": 5
}
