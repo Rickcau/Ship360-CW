{
 "cells": [
  {
   "cell_type": "markdown",
   "id": "d1053f8f",
   "metadata": {},
   "source": [
    "# Ship360 Chat API - Fundamentals\n",
    "\n",
    "This notebook introduces the core concepts and usage patterns of the Ship360 Chat API. You'll learn how to initialize the API client, make basic queries, and understand the structure of responses."
   ]
  },
  {
   "cell_type": "markdown",
   "id": "3385628d",
   "metadata": {},
   "source": [
    "## Overview\n",
    "\n",
    "The Ship360 Chat API provides a conversational interface for shipping-related queries. It allows users to:\n",
    "\n",
    "1. Track shipments\n",
    "2. Get shipping rates\n",
    "3. Find delivery options\n",
    "4. Troubleshoot shipping issues\n",
    "5. Get support for shipping-related questions\n",
    "\n",
    "This API leverages Azure OpenAI and Semantic Kernel to provide intelligent responses to natural language queries."
   ]
  },
  {
   "cell_type": "markdown",
   "id": "915fd3e7",
   "metadata": {},
   "source": [
    "## Required Dependencies\n",
    "\n",
    "Before we begin, let's ensure we have all the necessary libraries installed."
   ]
  },
  {
   "cell_type": "code",
   "execution_count": null,
   "id": "749ec93f",
   "metadata": {},
   "outputs": [],
   "source": [
    "# Install required packages\n",
    "# Uncomment and run if needed\n",
    "# !pip install requests\n",
    "# !pip install python-dotenv\n",
    "# !pip install pydantic"
   ]
  },
  {
   "cell_type": "markdown",
   "id": "69a8b940",
   "metadata": {},
   "source": [
    "## Importing Libraries\n",
    "\n",
    "First, let's import the necessary libraries for making API requests and handling responses."
   ]
  },
  {
   "cell_type": "code",
   "execution_count": null,
   "id": "2e0fe601",
   "metadata": {},
   "outputs": [],
   "source": [
    "import os\n",
    "import json\n",
    "import requests\n",
    "from dotenv import load_dotenv\n",
    "from pprint import pprint\n",
    "\n",
    "# Load environment variables\n",
    "load_dotenv()\n",
    "\n",
    "# Define the base URL for the API\n",
    "BASE_URL = \"http://localhost:8000\""
   ]
  },
  {
   "cell_type": "markdown",
   "id": "ef9433a7",
   "metadata": {},
   "source": [
    "## Environment Setup\n",
    "\n",
    "The API requires certain environment variables to be set. We'll create a `.env` file in the `docs/examples/notebooks/` directory with the following variables. This keeps our example notebooks isolated from the main application."
   ]
  },
  {
   "cell_type": "code",
   "execution_count": null,
   "id": "e5fd7ccd",
   "metadata": {},
   "outputs": [],
   "source": [
    "import os\n",
    "from pathlib import Path\n",
    "from dotenv import load_dotenv\n",
    "\n",
    "# Set path to the .env file in the notebooks directory\n",
    "notebooks_dir = Path(os.path.abspath('')).parent.parent\n",
    "env_path = notebooks_dir / '.env'\n",
    "\n",
    "# Load environment variables from the notebooks/.env file\n",
    "load_dotenv(dotenv_path=env_path)\n",
    "\n",
    "# Set up environment variables\n",
    "# You can also create a .env file with the following variables\n",
    "# AZURE_OPENAI_API_KEY=your-api-key\n",
    "# AZURE_OPENAI_ENDPOINT=your-endpoint\n",
    "\n",
    "# Check if environment variables are set\n",
    "def check_env_vars():\n",
    "    required_vars = [\"AZURE_OPENAI_API_KEY\", \"AZURE_OPENAI_ENDPOINT\"]\n",
    "    missing_vars = [var for var in required_vars if not os.environ.get(var)]\n",
    "    \n",
    "    if missing_vars:\n",
    "        print(f\"Warning: Missing environment variables: {', '.join(missing_vars)}\")\n",
    "        print(f\"Please create a .env file at {env_path} with these variables.\")\n",
    "        print(\"Some examples in this notebook may not work without these variables.\")\n",
    "    else:\n",
    "        print(\"All required environment variables are set!\")\n",
    "\n",
    "# Uncomment to check environment variables\n",
    "# check_env_vars()"
   ]
  },
  {
   "cell_type": "markdown",
   "id": "fb3f6322",
   "metadata": {},
   "source": [
    "## API Endpoints\n",
    "\n",
    "The Ship360 Chat API provides several endpoints for different functionalities. Here are the main endpoints we'll be working with:\n",
    "\n",
    "1. `/api/v1/chat` - For sending chat messages and getting responses\n",
    "2. `/api/v1/orders` - For querying order information\n",
    "\n",
    "Let's explore these endpoints one by one."
   ]
  },
  {
   "cell_type": "markdown",
   "id": "8ee40212",
   "metadata": {},
   "source": [
    "## Making Basic API Calls\n",
    "\n",
    "Let's start by creating a simple function to send requests to the Ship360 Chat API."
   ]
  },
  {
   "cell_type": "code",
   "execution_count": null,
   "id": "d5430d94",
   "metadata": {},
   "outputs": [],
   "source": [
    "def send_chat_message(message, endpoint=\"/api/v1/chat\"):\n",
    "    \"\"\"Send a chat message to the API and return the response.\"\"\"\n",
    "    url = f\"{BASE_URL}{endpoint}\"\n",
    "    headers = {\"Content-Type\": \"application/json\"}\n",
    "    payload = {\"message\": message}\n",
    "    \n",
    "    try:\n",
    "        response = requests.post(url, headers=headers, json=payload)\n",
    "        response.raise_for_status()  # Raise an exception for 4XX/5XX responses\n",
    "        return response.json()\n",
    "    except requests.exceptions.RequestException as e:\n",
    "        print(f\"Error making request: {e}\")\n",
    "        return None"
   ]
  },
  {
   "cell_type": "markdown",
   "id": "29cb1d61",
   "metadata": {},
   "source": [
    "## Example: Sending a Simple Query\n",
    "\n",
    "Let's try sending a simple query to the API. For this example, we'll ask about tracking a shipment."
   ]
  },
  {
   "cell_type": "code",
   "execution_count": null,
   "id": "d8925e7d",
   "metadata": {},
   "outputs": [],
   "source": [
    "# Example query\n",
    "response = send_chat_message(\"Where is my shipment with tracking number 1Z999AA10123456784?\")\n",
    "\n",
    "# Pretty print the response\n",
    "if response:\n",
    "    print(\"API Response:\")\n",
    "    pprint(response)\n",
    "else:\n",
    "    print(\"Failed to get a response from the API. Make sure the API server is running.\")"
   ]
  },
  {
   "cell_type": "markdown",
   "id": "aaa3e645",
   "metadata": {},
   "source": [
    "## Understanding API Responses\n",
    "\n",
    "The API responses are in JSON format and typically include:\n",
    "\n",
    "1. `response` - The main text response to the user's query\n",
    "2. `intent` - The detected intent of the user's query\n",
    "3. `details` - Additional structured data related to the query (if available)\n",
    "\n",
    "Let's create a function to parse and display these components in a more readable format."
   ]
  },
  {
   "cell_type": "code",
   "execution_count": null,
   "id": "ec3ec222",
   "metadata": {},
   "outputs": [],
   "source": [
    "def parse_api_response(response):\n",
    "    \"\"\"Parse and display components of the API response.\"\"\"\n",
    "    if not response:\n",
    "        print(\"No response to parse.\")\n",
    "        return\n",
    "    \n",
    "    print(\"\\n==== Chat Response ====\")\n",
    "    print(response.get(\"response\", \"No text response available.\"))\n",
    "    \n",
    "    print(\"\\n==== Detected Intent ====\")\n",
    "    print(response.get(\"intent\", \"No intent detected.\"))\n",
    "    \n",
    "    print(\"\\n==== Additional Details ====\")\n",
    "    details = response.get(\"details\", {})\n",
    "    if details:\n",
    "        pprint(details)\n",
    "    else:\n",
    "        print(\"No additional details available.\")\n",
    "        \n",
    "# Parse the previous response\n",
    "if 'response' in locals() and response:\n",
    "    parse_api_response(response)"
   ]
  },
  {
   "cell_type": "markdown",
   "id": "8492f07e",
   "metadata": {},
   "source": [
    "## Error Handling\n",
    "\n",
    "When working with APIs, it's important to handle errors gracefully. Let's enhance our API call function to include better error handling."
   ]
  },
  {
   "cell_type": "code",
   "execution_count": null,
   "id": "f11296ce",
   "metadata": {},
   "outputs": [],
   "source": [
    "def send_chat_message_with_error_handling(message, endpoint=\"/api/v1/chat\", timeout=10):\n",
    "    \"\"\"Send a chat message with improved error handling.\"\"\"\n",
    "    url = f\"{BASE_URL}{endpoint}\"\n",
    "    headers = {\"Content-Type\": \"application/json\"}\n",
    "    payload = {\"message\": message}\n",
    "    \n",
    "    try:\n",
    "        response = requests.post(url, headers=headers, json=payload, timeout=timeout)\n",
    "        \n",
    "        if response.status_code == 200:\n",
    "            return response.json()\n",
    "        else:\n",
    "            print(f\"Error: HTTP {response.status_code}\")\n",
    "            print(f\"Error details: {response.text}\")\n",
    "            return None\n",
    "            \n",
    "    except requests.exceptions.ConnectionError:\n",
    "        print(\"Connection error. Make sure the API server is running.\")\n",
    "        return None\n",
    "    except requests.exceptions.Timeout:\n",
    "        print(f\"Request timed out after {timeout} seconds.\")\n",
    "        return None\n",
    "    except requests.exceptions.RequestException as e:\n",
    "        print(f\"An error occurred: {e}\")\n",
    "        return None"
   ]
  },
  {
   "cell_type": "markdown",
   "id": "623f38d9",
   "metadata": {},
   "source": [
    "## Advanced Example: Querying Order Information\n",
    "\n",
    "Let's try a more advanced example: querying information about a specific order."
   ]
  },
  {
   "cell_type": "code",
   "execution_count": null,
   "id": "52b8e49b",
   "metadata": {},
   "outputs": [],
   "source": [
    "# Example order query\n",
    "order_query = send_chat_message_with_error_handling(\"What's the status of my order #12345?\")\n",
    "\n",
    "# Parse and display the response\n",
    "if order_query:\n",
    "    parse_api_response(order_query)"
   ]
  },
  {
   "cell_type": "markdown",
   "id": "f14135af",
   "metadata": {},
   "source": [
    "## Handling Multiple Intents\n",
    "\n",
    "Users might ask complex questions that involve multiple intents. Let's see how the API handles this."
   ]
  },
  {
   "cell_type": "code",
   "execution_count": null,
   "id": "cb35f72c",
   "metadata": {},
   "outputs": [],
   "source": [
    "# Example multi-intent query\n",
    "multi_intent_query = send_chat_message_with_error_handling(\n",
    "    \"I need to know the shipping rate for a 5lb package to California, and also where my order #54321 is.\"\n",
    ")\n",
    "\n",
    "# Parse and display the response\n",
    "if multi_intent_query:\n",
    "    parse_api_response(multi_intent_query)"
   ]
  },
  {
   "cell_type": "markdown",
   "id": "2e9bd4ee",
   "metadata": {},
   "source": [
    "## Shipping Rate Calculations\n",
    "\n",
    "One common use case is calculating shipping rates. Let's explore how to use the API for this."
   ]
  },
  {
   "cell_type": "code",
   "execution_count": null,
   "id": "5f203c0d",
   "metadata": {},
   "outputs": [],
   "source": [
    "# Example shipping rate query\n",
    "shipping_rate_query = send_chat_message_with_error_handling(\n",
    "    \"How much would it cost to ship a 3lb package from Seattle to Miami?\"\n",
    ")\n",
    "\n",
    "# Parse and display the response\n",
    "if shipping_rate_query:\n",
    "    parse_api_response(shipping_rate_query)"
   ]
  },
  {
   "cell_type": "markdown",
   "id": "4482f4fc",
   "metadata": {},
   "source": [
    "## Conclusion\n",
    "\n",
    "In this notebook, we've explored the basics of working with the Ship360 Chat API:\n",
    "\n",
    "1. Setting up the environment\n",
    "2. Making basic API calls\n",
    "3. Understanding API responses\n",
    "4. Handling errors\n",
    "5. Working with specific use cases like order tracking and shipping rate calculations\n",
    "\n",
    "This foundation will help you build more complex applications that leverage the Ship360 Chat API for shipping-related functionality.\n",
    "\n",
    "## Next Steps\n",
    "\n",
    "- Explore more advanced features like multi-turn conversations\n",
    "- Implement authentication for production use\n",
    "- Create custom UIs that integrate with the API\n",
    "- Combine multiple API calls to create comprehensive shipping solutions"
   ]
  }
 ],
 "metadata": {
  "language_info": {
   "name": "python"
  }
 },
 "nbformat": 4,
 "nbformat_minor": 5
}
