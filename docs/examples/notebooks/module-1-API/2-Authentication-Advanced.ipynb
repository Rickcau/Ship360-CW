{
 "cells": [
  {
   "cell_type": "markdown",
   "id": "fde18a3a",
   "metadata": {},
   "source": [
    "# Ship360 Chat API - Authentication & Advanced Features\n",
    "\n",
    "This notebook demonstrates how to authenticate with the Ship360 Chat API and use its more advanced features such as multi-turn conversations, conversation history, and customizing parameters."
   ]
  },
  {
   "cell_type": "markdown",
   "id": "19bfd19b",
   "metadata": {},
   "source": [
    "## Authentication\n",
    "\n",
    "The Ship360 Chat API uses API keys for authentication. In production environments, you would obtain an API key from the Ship360 administration portal."
   ]
  },
  {
   "cell_type": "code",
   "execution_count": null,
   "id": "d0726a11",
   "metadata": {},
   "outputs": [],
   "source": [
    "import os\n",
    "import json\n",
    "import requests\n",
    "from dotenv import load_dotenv\n",
    "from pprint import pprint\n",
    "\n",
    "# Load environment variables\n",
    "load_dotenv()\n",
    "\n",
    "# Define the base URL for the API\n",
    "BASE_URL = \"http://localhost:8000\"\n",
    "\n",
    "# For production, you would use\n",
    "# BASE_URL = \"https://api.ship360.com\"\n",
    "\n",
    "# Get API key from environment or set directly (for testing only)\n",
    "API_KEY = os.environ.get(\"SHIP360_API_KEY\", \"your-api-key-here\")"
   ]
  },
  {
   "cell_type": "markdown",
   "id": "71aa50b1",
   "metadata": {},
   "source": [
    "## Making Authenticated API Calls\n",
    "\n",
    "Let's create a function to send authenticated requests to the Ship360 Chat API."
   ]
  },
  {
   "cell_type": "code",
   "execution_count": null,
   "id": "31550b83",
   "metadata": {},
   "outputs": [],
   "source": [
    "def send_authenticated_message(message, endpoint=\"/api/v1/chat\", parameters=None):\n",
    "    \"\"\"Send an authenticated chat message to the API and return the response.\"\"\"\n",
    "    url = f\"{BASE_URL}{endpoint}\"\n",
    "    headers = {\n",
    "        \"Content-Type\": \"application/json\",\n",
    "        \"Authorization\": f\"Bearer {API_KEY}\"\n",
    "    }\n",
    "    \n",
    "    payload = {\"message\": message}\n",
    "    \n",
    "    # Add optional parameters if provided\n",
    "    if parameters:\n",
    "        payload.update(parameters)\n",
    "    \n",
    "    try:\n",
    "        response = requests.post(url, headers=headers, json=payload)\n",
    "        response.raise_for_status()\n",
    "        return response.json()\n",
    "    except requests.exceptions.RequestException as e:\n",
    "        print(f\"Error making request: {e}\")\n",
    "        return None"
   ]
  },
  {
   "cell_type": "markdown",
   "id": "c7823435",
   "metadata": {},
   "source": [
    "## Multi-turn Conversations\n",
    "\n",
    "The Ship360 Chat API supports multi-turn conversations by maintaining context between queries. Let's see how to implement this."
   ]
  },
  {
   "cell_type": "code",
   "execution_count": null,
   "id": "d97fb505",
   "metadata": {},
   "outputs": [],
   "source": [
    "class Ship360Conversation:\n",
    "    \"\"\"A class to manage multi-turn conversations with the Ship360 API.\"\"\"\n",
    "    \n",
    "    def __init__(self, api_key=None, base_url=None):\n",
    "        self.api_key = api_key or API_KEY\n",
    "        self.base_url = base_url or BASE_URL\n",
    "        self.conversation_id = None\n",
    "        self.messages = []\n",
    "    \n",
    "    def send_message(self, message, parameters=None):\n",
    "        \"\"\"Send a message in this conversation.\"\"\"\n",
    "        url = f\"{self.base_url}/api/v1/chat\"\n",
    "        headers = {\n",
    "            \"Content-Type\": \"application/json\",\n",
    "            \"Authorization\": f\"Bearer {self.api_key}\"\n",
    "        }\n",
    "        \n",
    "        payload = {\"message\": message}\n",
    "        \n",
    "        # Add conversation ID if we have one\n",
    "        if self.conversation_id:\n",
    "            payload[\"conversation_id\"] = self.conversation_id\n",
    "        \n",
    "        # Add optional parameters if provided\n",
    "        if parameters:\n",
    "            payload.update(parameters)\n",
    "        \n",
    "        try:\n",
    "            response = requests.post(url, headers=headers, json=payload)\n",
    "            response.raise_for_status()\n",
    "            result = response.json()\n",
    "            \n",
    "            # Store conversation ID if returned\n",
    "            if \"conversation_id\" in result:\n",
    "                self.conversation_id = result[\"conversation_id\"]\n",
    "            \n",
    "            # Add to message history\n",
    "            self.messages.append({\"role\": \"user\", \"content\": message})\n",
    "            self.messages.append({\"role\": \"assistant\", \"content\": result.get(\"response\", \"\")})\n",
    "            \n",
    "            return result\n",
    "        except requests.exceptions.RequestException as e:\n",
    "            print(f\"Error making request: {e}\")\n",
    "            return None\n",
    "    \n",
    "    def get_conversation_history(self):\n",
    "        \"\"\"Get the conversation history.\"\"\"\n",
    "        return self.messages"
   ]
  },
  {
   "cell_type": "markdown",
   "id": "4babac6f",
   "metadata": {},
   "source": [
    "## Example: Using Multi-turn Conversation\n",
    "\n",
    "Let's demonstrate a multi-turn conversation where context is maintained between messages."
   ]
  },
  {
   "cell_type": "code",
   "execution_count": null,
   "id": "6cebeed9",
   "metadata": {},
   "outputs": [],
   "source": [
    "# Create a new conversation\n",
    "conversation = Ship360Conversation()\n",
    "\n",
    "# First message\n",
    "print(\"Sending first message...\")\n",
    "response1 = conversation.send_message(\"I want to ship a package to New York\")\n",
    "if response1:\n",
    "    print(f\"Response: {response1.get('response')}\\n\")\n",
    "\n",
    "# Second message - should have context from the first\n",
    "print(\"Sending follow-up message...\")\n",
    "response2 = conversation.send_message(\"How much would it cost for a 3-pound package?\")\n",
    "if response2:\n",
    "    print(f\"Response: {response2.get('response')}\\n\")\n",
    "\n",
    "# Third message - continuing the conversation\n",
    "print(\"Sending final message...\")\n",
    "response3 = conversation.send_message(\"What about expedited shipping?\")\n",
    "if response3:\n",
    "    print(f\"Response: {response3.get('response')}\\n\")\n",
    "\n",
    "# Show conversation history\n",
    "print(\"\\nConversation History:\")\n",
    "for i, msg in enumerate(conversation.get_conversation_history()):\n",
    "    print(f\"{msg['role'].capitalize()}: {msg['content']}\")\n",
    "    if i < len(conversation.get_conversation_history()) - 1:\n",
    "        print(\"-\" * 40)"
   ]
  },
  {
   "cell_type": "markdown",
   "id": "46c5fd38",
   "metadata": {},
   "source": [
    "## Customizing Parameters\n",
    "\n",
    "The Ship360 Chat API allows customization of various parameters to control the behavior of the AI. Let's explore some common parameters."
   ]
  },
  {
   "cell_type": "code",
   "execution_count": null,
   "id": "9d048bba",
   "metadata": {},
   "outputs": [],
   "source": [
    "# Example of sending a message with custom parameters\n",
    "custom_parameters = {\n",
    "    \"temperature\": 0.7,  # Controls randomness (0.0-1.0)\n",
    "    \"max_tokens\": 150,   # Maximum response length\n",
    "    \"model\": \"gpt-4\",   # Specific model to use\n",
    "}\n",
    "\n",
    "response = send_authenticated_message(\n",
    "    \"What are the shipping options for fragile items?\", \n",
    "    parameters=custom_parameters\n",
    ")\n",
    "\n",
    "if response:\n",
    "    print(\"Response with custom parameters:\")\n",
    "    print(response.get(\"response\"))"
   ]
  },
  {
   "cell_type": "markdown",
   "id": "e865e063",
   "metadata": {},
   "source": [
    "## Advanced Feature: Retrieving Extended Shipping Information\n",
    "\n",
    "The Ship360 API can provide detailed information about shipping options, carriers, and services. Let's explore this capability."
   ]
  },
  {
   "cell_type": "code",
   "execution_count": null,
   "id": "09f6cf9d",
   "metadata": {},
   "outputs": [],
   "source": [
    "def get_shipping_options(origin, destination, weight, dimensions=None, value=None):\n",
    "    \"\"\"Get available shipping options for a package.\"\"\"\n",
    "    url = f\"{BASE_URL}/api/v1/shipping/options\"\n",
    "    headers = {\n",
    "        \"Content-Type\": \"application/json\",\n",
    "        \"Authorization\": f\"Bearer {API_KEY}\"\n",
    "    }\n",
    "    \n",
    "    payload = {\n",
    "        \"origin\": origin,\n",
    "        \"destination\": destination,\n",
    "        \"weight\": weight,\n",
    "    }\n",
    "    \n",
    "    if dimensions:\n",
    "        payload[\"dimensions\"] = dimensions\n",
    "    \n",
    "    if value:\n",
    "        payload[\"declared_value\"] = value\n",
    "    \n",
    "    try:\n",
    "        response = requests.post(url, headers=headers, json=payload)\n",
    "        response.raise_for_status()\n",
    "        return response.json()\n",
    "    except requests.exceptions.RequestException as e:\n",
    "        print(f\"Error making request: {e}\")\n",
    "        return None"
   ]
  },
  {
   "cell_type": "markdown",
   "id": "fffb08d3",
   "metadata": {},
   "source": [
    "## Example: Comparing Shipping Options\n",
    "\n",
    "Let's use the function to compare shipping options for different package types."
   ]
  },
  {
   "cell_type": "code",
   "execution_count": null,
   "id": "1ef6eba0",
   "metadata": {},
   "outputs": [],
   "source": [
    "# Define some test packages\n",
    "test_packages = [\n",
    "    {\"origin\": \"Seattle, WA\", \"destination\": \"New York, NY\", \"weight\": 2, \"dimensions\": {\"length\": 10, \"width\": 8, \"height\": 6}},\n",
    "    {\"origin\": \"Los Angeles, CA\", \"destination\": \"Miami, FL\", \"weight\": 10, \"dimensions\": {\"length\": 18, \"width\": 14, \"height\": 12}, \"value\": 500},\n",
    "    {\"origin\": \"Chicago, IL\", \"destination\": \"Houston, TX\", \"weight\": 1, \"dimensions\": {\"length\": 6, \"width\": 4, \"height\": 2}},\n",
    "]\n",
    "\n",
    "# Get shipping options for each package\n",
    "for i, package in enumerate(test_packages):\n",
    "    print(f\"\\nPackage {i+1}: {package['weight']}lbs from {package['origin']} to {package['destination']}\")\n",
    "    \n",
    "    options = get_shipping_options(\n",
    "        package[\"origin\"],\n",
    "        package[\"destination\"],\n",
    "        package[\"weight\"],\n",
    "        package.get(\"dimensions\"),\n",
    "        package.get(\"value\")\n",
    "    )\n",
    "    \n",
    "    if options and \"shipping_options\" in options:\n",
    "        print(f\"Found {len(options['shipping_options'])} shipping options:\")\n",
    "        for option in options[\"shipping_options\"]:\n",
    "            print(f\"- {option['carrier']} {option['service']}: ${option['rate']} ({option['delivery_time']} days)\")\n",
    "    else:\n",
    "        print(\"No shipping options found or API error occurred.\")"
   ]
  },
  {
   "cell_type": "markdown",
   "id": "322e42f1",
   "metadata": {},
   "source": [
    "## Conclusion\n",
    "\n",
    "In this notebook, we've explored the advanced features of the Ship360 Chat API, including:\n",
    "\n",
    "1. Authentication with API keys\n",
    "2. Multi-turn conversations with context maintenance\n",
    "3. Customizing parameters for different use cases\n",
    "4. Retrieving detailed shipping information and options\n",
    "\n",
    "These capabilities can be integrated into a wide range of applications, from customer service chatbots to shipping calculators and order tracking systems."
   ]
  }
 ],
 "metadata": {
  "language_info": {
   "name": "python"
  }
 },
 "nbformat": 4,
 "nbformat_minor": 5
}
